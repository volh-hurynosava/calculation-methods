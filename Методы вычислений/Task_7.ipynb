{
 "cells": [
  {
   "cell_type": "markdown",
   "metadata": {},
   "source": [
    "# Задание 7"
   ]
  },
  {
   "cell_type": "markdown",
   "metadata": {},
   "source": [
    "\\begin{equation*}\n",
    " \\begin{cases}\n",
    "  sin(x-0.5y) = x-y^2\n",
    "   \\\\\n",
    "  (y+0.1)^2 + x^2 = 0.7\n",
    " \\end{cases}\n",
    "\\end{equation*}"
   ]
  },
  {
   "cell_type": "markdown",
   "metadata": {},
   "source": [
    "1) Графики функций $f(x,y)= 0, g(x,y)= 0$"
   ]
  },
  {
   "cell_type": "code",
   "execution_count": 1,
   "metadata": {},
   "outputs": [],
   "source": [
    "import matplotlib.pyplot as plt\n",
    "import numpy as np\n",
    "import pandas as pd\n",
    "from math import sqrt"
   ]
  },
  {
   "cell_type": "code",
   "execution_count": 2,
   "metadata": {},
   "outputs": [
    {
     "data": {
      "image/png": "[encoded data removed]",
      "text/plain": [
       "<Figure size 432x288 with 1 Axes>"
      ]
     },
     "metadata": {
      "needs_background": "light"
     },
     "output_type": "display_data"
    }
   ],
   "source": [
    "delta = 0.025\n",
    "x = np.arange(-2, 2, delta)\n",
    "y = np.arange(-2, 2, delta)\n",
    "p, q = np.meshgrid(x, y)\n",
    "\n",
    "f = lambda x, y: np.sin(x - 0.5*y) - x + y**2\n",
    "g = lambda x, y: (y + 0.1)**2 + x**2- 0.7\n",
    "z_1=f(p,q)\n",
    "z_2 = g(p,q)\n",
    "\n",
    "plt.contour(p, q, z_1 , [0], colors=\"purple\")\n",
    "plt.contour(p, q, z_2 , [0], colors=\"magenta\")\n",
    "\n",
    "plt.grid()\n",
    "plt.show()"
   ]
  },
  {
   "cell_type": "markdown",
   "metadata": {},
   "source": [
    "2) Уточнение начального приближения до тех пор, пока $||(x_k-x{k+1},y_k-y_{k+1})||>\\varepsilon$, методом Ньютона"
   ]
  },
  {
   "cell_type": "code",
   "execution_count": 3,
   "metadata": {},
   "outputs": [
    {
     "name": "stdout",
     "output_type": "stream",
     "text": [
      "Полученное приближенное решение =  [0.5722448096426793, 0.5103571723483016]\n"
     ]
    },
    {
     "data": {
      "text/html": [
       "<div>\n",
       "<style scoped>\n",
       "    .dataframe tbody tr th:only-of-type {\n",
       "        vertical-align: middle;\n",
       "    }\n",
       "\n",
       "    .dataframe tbody tr th {\n",
       "        vertical-align: top;\n",
       "    }\n",
       "\n",
       "    .dataframe thead th {\n",
       "        text-align: right;\n",
       "    }\n",
       "</style>\n",
       "<table border=\"1\" class=\"dataframe\">\n",
       "  <thead>\n",
       "    <tr style=\"text-align: right;\">\n",
       "      <th>$k$</th>\n",
       "      <th>$x_k$</th>\n",
       "      <th>$y_k$</th>\n",
       "      <th>$norma$</th>\n",
       "      <th>$f(x_k, y_k)$</th>\n",
       "      <th>$g(x_k, y_k)$</th>\n",
       "    </tr>\n",
       "  </thead>\n",
       "  <tbody>\n",
       "    <tr>\n",
       "      <th>0</th>\n",
       "      <td>0.568</td>\n",
       "      <td>0.519</td>\n",
       "      <td></td>\n",
       "      <td>0.00499079</td>\n",
       "      <td>0.005785</td>\n",
       "    </tr>\n",
       "    <tr>\n",
       "      <th>1</th>\n",
       "      <td>0.572207</td>\n",
       "      <td>0.510467</td>\n",
       "      <td>0.00951365</td>\n",
       "      <td>6.18163e-05</td>\n",
       "      <td>9.05095e-05</td>\n",
       "    </tr>\n",
       "    <tr>\n",
       "      <th>2</th>\n",
       "      <td>0.572245</td>\n",
       "      <td>0.510357</td>\n",
       "      <td>0.000116179</td>\n",
       "      <td>1.07056e-08</td>\n",
       "      <td>1.34976e-08</td>\n",
       "    </tr>\n",
       "    <tr>\n",
       "      <th>3</th>\n",
       "      <td>0.572245</td>\n",
       "      <td>0.510357</td>\n",
       "      <td>2.06147e-08</td>\n",
       "      <td>3.33067e-16</td>\n",
       "      <td>6.66134e-16</td>\n",
       "    </tr>\n",
       "  </tbody>\n",
       "</table>\n",
       "</div>"
      ],
      "text/plain": [
       "$k$     $x_k$     $y_k$      $norma$ $f(x_k, y_k)$ $g(x_k, y_k)$\n",
       "0       0.568     0.519                 0.00499079      0.005785\n",
       "1    0.572207  0.510467   0.00951365   6.18163e-05   9.05095e-05\n",
       "2    0.572245  0.510357  0.000116179   1.07056e-08   1.34976e-08\n",
       "3    0.572245  0.510357  2.06147e-08   3.33067e-16   6.66134e-16"
      ]
     },
     "metadata": {},
     "output_type": "display_data"
    },
    {
     "name": "stdout",
     "output_type": "stream",
     "text": [
      "Полученное приближенное решение =  [0.8323901860540492, -0.18441906278149434]\n"
     ]
    },
    {
     "data": {
      "text/html": [
       "<div>\n",
       "<style scoped>\n",
       "    .dataframe tbody tr th:only-of-type {\n",
       "        vertical-align: middle;\n",
       "    }\n",
       "\n",
       "    .dataframe tbody tr th {\n",
       "        vertical-align: top;\n",
       "    }\n",
       "\n",
       "    .dataframe thead th {\n",
       "        text-align: right;\n",
       "    }\n",
       "</style>\n",
       "<table border=\"1\" class=\"dataframe\">\n",
       "  <thead>\n",
       "    <tr style=\"text-align: right;\">\n",
       "      <th>$k$</th>\n",
       "      <th>$x_k$</th>\n",
       "      <th>$y_k$</th>\n",
       "      <th>$norma$</th>\n",
       "      <th>$f(x_k, y_k)$</th>\n",
       "      <th>$g(x_k, y_k)$</th>\n",
       "    </tr>\n",
       "  </thead>\n",
       "  <tbody>\n",
       "    <tr>\n",
       "      <th>0</th>\n",
       "      <td>0.835</td>\n",
       "      <td>-0.194</td>\n",
       "      <td></td>\n",
       "      <td>0.00545</td>\n",
       "      <td>0.006061</td>\n",
       "    </tr>\n",
       "    <tr>\n",
       "      <th>1</th>\n",
       "      <td>0.832435</td>\n",
       "      <td>-0.184547</td>\n",
       "      <td>0.00979474</td>\n",
       "      <td>6.80534e-05</td>\n",
       "      <td>9.59369e-05</td>\n",
       "    </tr>\n",
       "    <tr>\n",
       "      <th>2</th>\n",
       "      <td>0.83239</td>\n",
       "      <td>-0.184419</td>\n",
       "      <td>0.000135599</td>\n",
       "      <td>1.16843e-08</td>\n",
       "      <td>1.83872e-08</td>\n",
       "    </tr>\n",
       "    <tr>\n",
       "      <th>3</th>\n",
       "      <td>0.83239</td>\n",
       "      <td>-0.184419</td>\n",
       "      <td>2.42692e-08</td>\n",
       "      <td>3.95517e-16</td>\n",
       "      <td>6.66134e-16</td>\n",
       "    </tr>\n",
       "  </tbody>\n",
       "</table>\n",
       "</div>"
      ],
      "text/plain": [
       "$k$     $x_k$     $y_k$      $norma$ $f(x_k, y_k)$ $g(x_k, y_k)$\n",
       "0       0.835    -0.194                    0.00545      0.006061\n",
       "1    0.832435 -0.184547   0.00979474   6.80534e-05   9.59369e-05\n",
       "2     0.83239 -0.184419  0.000135599   1.16843e-08   1.83872e-08\n",
       "3     0.83239 -0.184419  2.42692e-08   3.95517e-16   6.66134e-16"
      ]
     },
     "metadata": {},
     "output_type": "display_data"
    }
   ],
   "source": [
    "def Newton_method(xk, yk, eps, kmax, f, g, dfx, dfy, dgx, dgy):\n",
    "    k = 0\n",
    "    xx, yy, differ, val_f, val_g = [], [], [], [], []\n",
    "    while True:\n",
    "\n",
    "        xx.append(xk)\n",
    "        yy.append(yk)\n",
    "        val_f.append(f(xk, yk))\n",
    "        val_g.append(g(xk, yk))\n",
    "\n",
    "        D = dfx(xk, yk) * dgy(yk) - dgx(xk) * dfy(xk, yk)\n",
    "        DX = f(xk, yk) * dgy(yk) - g(xk, yk) * dfy(xk, yk)\n",
    "        DY = dfx(xk, yk) * g(xk, yk) - dgx(xk) * f(xk, yk)\n",
    "\n",
    "        xk_1 = xk - DX / D\n",
    "        yk_1 = yk - DY / D\n",
    "\n",
    "        if k == 0:\n",
    "            differ.append(' ')\n",
    "        else:\n",
    "            norma = sqrt((xx[k] - xx[k-1])**2 + (yy[k] - yy[k-1])**2)\n",
    "            differ.append(norma)\n",
    "            if norma < eps or k >= kmax:\n",
    "                val = [xk, yk]\n",
    "                break\n",
    "\n",
    "        xk = xk_1\n",
    "        yk = yk_1\n",
    "        k += 1\n",
    "\n",
    "    data = xx, yy, differ, val_f, val_g\n",
    "    columns = [\n",
    "        \"$x_k$\",\n",
    "        \"$y_k$\",\n",
    "        \"$norma$\",\n",
    "        \"$f(x_k, y_k)$\",\n",
    "        \"$g(x_k, y_k)$\"\n",
    "    ]\n",
    "    df = pd.DataFrame(data, columns).T\n",
    "    df.columns.name = \"$k$\"\n",
    "    return df, val\n",
    "\n",
    "f = lambda x, y: np.sin(x - 0.5*y) - x + y**2\n",
    "g = lambda x, y: (y + 0.1)**2 + x**2- 0.7\n",
    "df_x = lambda x, y: np.cos(x - 0.5*y) - 1\n",
    "df_y = lambda x, y: (-0.5)*np.cos(x - 0.5*y) +2*y\n",
    "dg_x = lambda x : 2*x\n",
    "dg_y = lambda y: 2*(y + 0.1)\n",
    "\n",
    "eps = 0.00001\n",
    "x_0, y_0 = 0.568 , 0.519\n",
    "num = 5\n",
    "table_1, value_1 = Newton_method(x_0, y_0, eps, num, f, g, df_x, df_y, dg_x, dg_y)\n",
    "print(\"Полученное приближенное решение = \", value_1)\n",
    "display(table_1)\n",
    "\n",
    "eps = 0.00001\n",
    "x_0, y_0 = 0.835 , -0.194\n",
    "num = 5\n",
    "table_2, value_2 = Newton_method(x_0, y_0, eps, num, f, g, df_x, df_y, dg_x, dg_y)\n",
    "print(\"Полученное приближенное решение = \", value_2)\n",
    "display(table_2)"
   ]
  },
  {
   "cell_type": "code",
   "execution_count": null,
   "metadata": {},
   "outputs": [],
   "source": []
  }
 ],
 "metadata": {
  "kernelspec": {
   "display_name": "Python 3",
   "language": "python",
   "name": "python3"
  },
  "language_info": {
   "codemirror_mode": {
    "name": "ipython",
    "version": 3
   },
   "file_extension": ".py",
   "mimetype": "text/x-python",
   "name": "python",
   "nbconvert_exporter": "python",
   "pygments_lexer": "ipython3",
   "version": "3.8.5"
  }
 },
 "nbformat": 4,
 "nbformat_minor": 4
}
