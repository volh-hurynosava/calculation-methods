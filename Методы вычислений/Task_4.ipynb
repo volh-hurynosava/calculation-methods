{
 "cells": [
  {
   "cell_type": "markdown",
   "metadata": {},
   "source": [
    "# Численное интегрирование"
   ]
  },
  {
   "cell_type": "code",
   "execution_count": 1,
   "metadata": {},
   "outputs": [],
   "source": [
    "import sympy as sym\n",
    "import math\n",
    "from sympy import *\n",
    "x = sym. Symbol('x')"
   ]
  },
  {
   "cell_type": "code",
   "execution_count": 2,
   "metadata": {},
   "outputs": [
    {
     "name": "stdout",
     "output_type": "stream",
     "text": [
      "Точное значение интеграла: 0.6576551\n"
     ]
    }
   ],
   "source": [
    "#Точное вычисление интеграла\n",
    "f = sym.cos(x)*(1-x) ** Rational(1,3)\n",
    "IntVal = round(sym.integrate(f, (x, 0, 1)), 7) \n",
    "print(\"Точное значение интеграла:\", IntVal)"
   ]
  },
  {
   "cell_type": "code",
   "execution_count": 3,
   "metadata": {},
   "outputs": [
    {
     "name": "stdout",
     "output_type": "stream",
     "text": [
      "Значение по формуле Симпсона: 0.631025, Погрешность: 0.026630\n"
     ]
    }
   ],
   "source": [
    "#Формула Симпсона\n",
    "xk = [0.0, 0.5, 1.0]\n",
    "f_x = [f.subs(x, xk[i]) for i in range(0, 3)]\n",
    "SimpsIntVal = round((f_x[0] + 4 * f_x[1] + f_x[2]) / 6, 7) \n",
    "print(\"Значение по формуле Симпсона: %f, Погрешность: %f\" % (SimpsIntVal, abs(round(SimpsIntVal - IntVal, 7))))"
   ]
  },
  {
   "cell_type": "code",
   "execution_count": 4,
   "metadata": {},
   "outputs": [
    {
     "name": "stdout",
     "output_type": "stream",
     "text": [
      "Значение интеграла по интерполяционной формуле: 0.657490, Погрешность: 0.000165\n"
     ]
    }
   ],
   "source": [
    "#Интерполяционная формула\n",
    "p = (1-x) ** Rational(1,3)\n",
    "g = sym.cos(x)\n",
    "w = (x - xk[0]) * (x - xk[1]) * (x - xk[2])\n",
    "dw = sym.diff(w)\n",
    "A = [round(sym.integrate((p / dw.subs(x, xk[i])) *  sym.simplify(w / (x - xk[i])), (x, 0, 1)), 7) for i in range(0, 3)] \n",
    "g_x = [g.subs(x, xk[i]) for i in range(0, 3)]\n",
    "KvadrInterpol = round(A[0] * g_x[0] + A[1] * g_x[1] + A[2] * g_x[2], 7) \n",
    "print(\"Значение интеграла по интерполяционной формуле: %f, Погрешность: %f\" % (KvadrInterpol, abs(round(KvadrInterpol - IntVal, 7))))"
   ]
  },
  {
   "cell_type": "code",
   "execution_count": 5,
   "metadata": {},
   "outputs": [
    {
     "name": "stdout",
     "output_type": "stream",
     "text": [
      "Значение интеграла по формуле Гаусса: 0.661581,  Погрешность: 0.003926\n"
     ]
    }
   ],
   "source": [
    "#Формула Гауса\n",
    "Gauss = round((f.subs(x, 0.5 * 3 ** (-0.5) + 0.5) + f.subs(x, -0.5 * 3 ** (-0.5) + 0.5)) / 2, 7) \n",
    "print(\"Значение интеграла по формуле Гаусса: %f,  Погрешность: %f\" % (Gauss, abs(round(Gauss - IntVal, 7))))"
   ]
  },
  {
   "cell_type": "code",
   "execution_count": 6,
   "metadata": {},
   "outputs": [
    {
     "name": "stdout",
     "output_type": "stream",
     "text": [
      "Значение интеграла по формуле типа Гаусса: 0.657523, Погрешность: 0.000132\n"
     ]
    }
   ],
   "source": [
    "#Формула типа Гаусса\n",
    "mu = [round(sym.integrate((x ** i) * p, (x, 0, 1), meijerg = False), 7) for i in range (0, 4)] \n",
    "a1 = round((mu[0] * mu[3] - mu[2] * mu[1]) / (mu[1] ** 2 - mu[2] * mu[0]), 7)\n",
    "a2 = round((mu[2] ** 2 - mu[3] * mu[1]) / (mu[1] ** 2 - mu[2] * mu[0]), 7)\n",
    "x1, x2 = sym.solve(x ** 2 + a1 * x + a2, x)\n",
    "A1 = (mu[1] - x2 * mu[0]) / (x1 - x2)\n",
    "A2 = (mu[1] - x1 * mu[0]) / (x2 - x1)\n",
    "GaussInt = round(A1 * g.subs(x, x1) + A2 * g.subs(x, x2), 7)\n",
    "print(\"Значение интеграла по формуле типа Гаусса: %f, Погрешность: %f\" % (GaussInt, abs(round(GaussInt - IntVal, 7))))"
   ]
  }
 ],
 "metadata": {
  "kernelspec": {
   "display_name": "Python 3",
   "language": "python",
   "name": "python3"
  },
  "language_info": {
   "codemirror_mode": {
    "name": "ipython",
    "version": 3
   },
   "file_extension": ".py",
   "mimetype": "text/x-python",
   "name": "python",
   "nbconvert_exporter": "python",
   "pygments_lexer": "ipython3",
   "version": "3.8.5"
  }
 },
 "nbformat": 4,
 "nbformat_minor": 4
}
