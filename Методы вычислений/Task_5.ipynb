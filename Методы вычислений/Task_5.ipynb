{
 "cells": [
  {
   "cell_type": "markdown",
   "metadata": {},
   "source": [
    " # Задача Коши"
   ]
  },
  {
   "cell_type": "markdown",
   "metadata": {},
   "source": [
    "$$y'=1-sin(1.25x+y)-\\frac{0.1y}{2+x}, y(0)=0$$"
   ]
  },
  {
   "cell_type": "code",
   "execution_count": 1,
   "metadata": {},
   "outputs": [],
   "source": [
    "import pandas as pd\n",
    "import numpy as np"
   ]
  },
  {
   "cell_type": "markdown",
   "metadata": {},
   "source": [
    "1)Таблица значений решения задачи"
   ]
  },
  {
   "cell_type": "code",
   "execution_count": 2,
   "metadata": {},
   "outputs": [
    {
     "data": {
      "text/html": [
       "<div>\n",
       "<style scoped>\n",
       "    .dataframe tbody tr th:only-of-type {\n",
       "        vertical-align: middle;\n",
       "    }\n",
       "\n",
       "    .dataframe tbody tr th {\n",
       "        vertical-align: top;\n",
       "    }\n",
       "\n",
       "    .dataframe thead th {\n",
       "        text-align: right;\n",
       "    }\n",
       "</style>\n",
       "<table border=\"1\" class=\"dataframe\">\n",
       "  <thead>\n",
       "    <tr style=\"text-align: right;\">\n",
       "      <th>$x$</th>\n",
       "      <th>$y$</th>\n",
       "    </tr>\n",
       "  </thead>\n",
       "  <tbody>\n",
       "    <tr>\n",
       "      <th>0.0</th>\n",
       "      <td>0.000000</td>\n",
       "    </tr>\n",
       "    <tr>\n",
       "      <th>0.1</th>\n",
       "      <td>0.100000</td>\n",
       "    </tr>\n",
       "    <tr>\n",
       "      <th>0.2</th>\n",
       "      <td>0.177213</td>\n",
       "    </tr>\n",
       "    <tr>\n",
       "      <th>0.3</th>\n",
       "      <td>0.234974</td>\n",
       "    </tr>\n",
       "    <tr>\n",
       "      <th>0.4</th>\n",
       "      <td>0.276668</td>\n",
       "    </tr>\n",
       "    <tr>\n",
       "      <th>0.5</th>\n",
       "      <td>0.305424</td>\n",
       "    </tr>\n",
       "  </tbody>\n",
       "</table>\n",
       "</div>"
      ],
      "text/plain": [
       "$x$       $y$\n",
       "0.0  0.000000\n",
       "0.1  0.100000\n",
       "0.2  0.177213\n",
       "0.3  0.234974\n",
       "0.4  0.276668\n",
       "0.5  0.305424"
      ]
     },
     "metadata": {},
     "output_type": "display_data"
    }
   ],
   "source": [
    "y_math = [0, 0.1, 0.177213, 0.234974, 0.276668, 0.305424]\n",
    "xx = [round(x, 2) for x in np.arange(0, 0.6, 0.1)]\n",
    "indexes = [\"$y$\"]\n",
    "table1 = pd.DataFrame(y_math, index = xx, columns = indexes)\n",
    "table1.columns.name = \"$x$\"\n",
    "display(table1)"
   ]
  },
  {
   "cell_type": "markdown",
   "metadata": {},
   "source": [
    "2)Метод Эйлера улучшенный"
   ]
  },
  {
   "cell_type": "markdown",
   "metadata": {},
   "source": [
    "3) Напечатать таблицу значений $y_{math}, y^h, y_{rev},y_{rev}-y_{math}$"
   ]
  },
  {
   "cell_type": "code",
   "execution_count": 3,
   "metadata": {},
   "outputs": [
    {
     "data": {
      "text/html": [
       "<div>\n",
       "<style scoped>\n",
       "    .dataframe tbody tr th:only-of-type {\n",
       "        vertical-align: middle;\n",
       "    }\n",
       "\n",
       "    .dataframe tbody tr th {\n",
       "        vertical-align: top;\n",
       "    }\n",
       "\n",
       "    .dataframe thead th {\n",
       "        text-align: right;\n",
       "    }\n",
       "</style>\n",
       "<table border=\"1\" class=\"dataframe\">\n",
       "  <thead>\n",
       "    <tr style=\"text-align: right;\">\n",
       "      <th>$x$</th>\n",
       "      <th>y_h</th>\n",
       "      <th>y_h_2</th>\n",
       "      <th>y_rev</th>\n",
       "      <th>y_rev - y_math</th>\n",
       "    </tr>\n",
       "  </thead>\n",
       "  <tbody>\n",
       "    <tr>\n",
       "      <th>0.0</th>\n",
       "      <td>0.000000</td>\n",
       "      <td>0.000000</td>\n",
       "      <td>0.000000</td>\n",
       "      <td>0.000000</td>\n",
       "    </tr>\n",
       "    <tr>\n",
       "      <th>0.1</th>\n",
       "      <td>0.088607</td>\n",
       "      <td>0.088859</td>\n",
       "      <td>0.088943</td>\n",
       "      <td>-0.011057</td>\n",
       "    </tr>\n",
       "    <tr>\n",
       "      <th>0.2</th>\n",
       "      <td>0.157166</td>\n",
       "      <td>0.157552</td>\n",
       "      <td>0.157681</td>\n",
       "      <td>-0.019532</td>\n",
       "    </tr>\n",
       "    <tr>\n",
       "      <th>0.3</th>\n",
       "      <td>0.208643</td>\n",
       "      <td>0.209076</td>\n",
       "      <td>0.209220</td>\n",
       "      <td>-0.025754</td>\n",
       "    </tr>\n",
       "    <tr>\n",
       "      <th>0.4</th>\n",
       "      <td>0.245931</td>\n",
       "      <td>0.246353</td>\n",
       "      <td>0.246494</td>\n",
       "      <td>-0.030174</td>\n",
       "    </tr>\n",
       "    <tr>\n",
       "      <th>0.5</th>\n",
       "      <td>0.271702</td>\n",
       "      <td>0.272076</td>\n",
       "      <td>0.272201</td>\n",
       "      <td>-0.033223</td>\n",
       "    </tr>\n",
       "  </tbody>\n",
       "</table>\n",
       "</div>"
      ],
      "text/plain": [
       "$x$       y_h     y_h_2     y_rev  y_rev - y_math\n",
       "0.0  0.000000  0.000000  0.000000        0.000000\n",
       "0.1  0.088607  0.088859  0.088943       -0.011057\n",
       "0.2  0.157166  0.157552  0.157681       -0.019532\n",
       "0.3  0.208643  0.209076  0.209220       -0.025754\n",
       "0.4  0.245931  0.246353  0.246494       -0.030174\n",
       "0.5  0.271702  0.272076  0.272201       -0.033223"
      ]
     },
     "metadata": {},
     "output_type": "display_data"
    }
   ],
   "source": [
    "a, b, h, h_2 = 0, 0.5, 0.1, 0.05\n",
    "y_a = 0\n",
    "n = len(xx)\n",
    "y_h = [0]*n\n",
    "y_h[0] = y_a\n",
    "\n",
    "def f(x, y):\n",
    "    val = 1 - np.sin(1.25 * x + y) - (0.1 * y) / (2 + x)\n",
    "    return val\n",
    "\n",
    "def Euler(y, x, h):\n",
    "    for i in range(1, len(y)):\n",
    "        val_1 = f(x[i - 1], y[i - 1])\n",
    "        Y_m = y[i - 1] + h * val_1\n",
    "        val_2 = f(x[i], Y_m)\n",
    "        y[i] = y[i - 1] + h / 2 * (val_1 + val_2)\n",
    "    return y\n",
    "\n",
    "y_h = Euler(y_h, xx, h)\n",
    "\n",
    "xx_2 = [round(x, 2) for x in np.arange(0, 0.6, h_2)]\n",
    "n_2 = len(xx_2)\n",
    "Y_h_2 = [0]*n_2\n",
    "y_h_2 = [0]*n\n",
    "Y_h_2[0] = y_a\n",
    "\n",
    "Y_h_2 = Euler(Y_h_2, xx_2, h_2)\n",
    "for i in range(0, n_2, 2):\n",
    "    y_h_2[i//2] = Y_h_2[i]\n",
    "\n",
    "R = [0]*n\n",
    "y_rev = [0]*n\n",
    "s = 2\n",
    "\n",
    "for i in range(n):\n",
    "    R[i] = (y_h_2[i] - y_h[i])/(2**s - 1)\n",
    "    y_rev[i] = y_h_2[i] + R[i]\n",
    "\n",
    "errs = [0]*n\n",
    "for i in range(n):\n",
    "    errs[i] = y_rev[i] - y_math[i]\n",
    "data = [y_h, y_h_2, y_rev, errs]\n",
    "indexes = [\n",
    "    \"y_h\",\n",
    "    \"y_h_2\",\n",
    "    \"y_rev\",\n",
    "    \"y_rev - y_math\"\n",
    "]\n",
    "table2 = pd.DataFrame(data, index= indexes, columns=xx).T\n",
    "table2.columns.name = \"$x$\"\n",
    "display(table2)"
   ]
  },
  {
   "cell_type": "markdown",
   "metadata": {},
   "source": [
    "4)Построить графики заданных таблично функций в одних осях координат"
   ]
  },
  {
   "cell_type": "code",
   "execution_count": 4,
   "metadata": {},
   "outputs": [
    {
     "data": {
      "image/png": "[encoded data removed]",
      "text/plain": [
       "<Figure size 576x432 with 1 Axes>"
      ]
     },
     "metadata": {
      "needs_background": "light"
     },
     "output_type": "display_data"
    }
   ],
   "source": [
    "import matplotlib.pyplot as plt\n",
    "fig, ax = plt.subplots(figsize=(8, 6))\n",
    "ax.plot(xx, y_h, 'g.')\n",
    "ax.plot(xx, y_h_2, 'b.')\n",
    "ax.plot(xx, y_rev, 'r.')\n",
    "plt.xlabel(\"x\")\n",
    "plt.ylabel(\"y\")\n",
    "plt.show()"
   ]
  },
  {
   "cell_type": "markdown",
   "metadata": {},
   "source": [
    "5) Вычислить решение мотодом РУнге-Кнутты 4-го порядка"
   ]
  },
  {
   "cell_type": "code",
   "execution_count": 5,
   "metadata": {},
   "outputs": [
    {
     "name": "stdout",
     "output_type": "stream",
     "text": [
      "Решения, полученные методом Рунге-Кутты [0, 0.0889404120646352, 0.157677387266089, 0.20921728864481295, 0.24649311927953876, 0.27220160555376705]\n",
      "Погрешность:  [0, 0.011059587935364809, 0.019535612733911023, 0.025756711355187034, 0.03017488072046126, 0.03322239444623293]\n"
     ]
    }
   ],
   "source": [
    "def Runge_Kut(y, x, h):\n",
    "\n",
    "    for i in range(1, len(y)):\n",
    "        k1 = h*f(x[i-1], y[i-1])\n",
    "        k2 = h*f(x[i-1] + h/2, y[i-1] +k1/2)\n",
    "        k3 = h*f(x[i-1] + h/2, y[i-1] +k2/2)\n",
    "        k4 = h*f(x[i-1] + h, y[i-1] +k3)\n",
    "        y[i] = y[i-1] + (k1 + 2*k2 + 2*k3 +k4)*(1/6)\n",
    "    return y\n",
    "\n",
    "xx_2 = [round(x, 2) for x in np.arange(0, 0.6, h_2)]\n",
    "n_2 = len(xx_2)\n",
    "Y_RK_2 = [0]*n_2\n",
    "y_RK_2 = [0]*n\n",
    "Y_RK_2[0] = y_a\n",
    "\n",
    "Y_RK_2 = Runge_Kut(Y_RK_2, xx_2, h_2)\n",
    "for i in range(0, n_2, 2):\n",
    "    y_RK_2[i//2] = Y_RK_2[i]\n",
    "\n",
    "errs_RK_2 = [0]*n\n",
    "for i in range(n):\n",
    "    errs_RK_2[i] = np.abs(y_RK_2[i] - y_math[i] )\n",
    "\n",
    "print(\"Решения, полученные методом Рунге-Кутты\", y_RK_2)\n",
    "print(\"Погрешность: \", errs_RK_2)"
   ]
  },
  {
   "cell_type": "markdown",
   "metadata": {},
   "source": [
    "6) Вычислить решение экстраполяционны методом Адамся 4-го порядка"
   ]
  },
  {
   "cell_type": "code",
   "execution_count": 6,
   "metadata": {},
   "outputs": [],
   "source": [
    "def Adams_ex(y, x, h):\n",
    "    for i in range(5, len(y)):\n",
    "        q_4 = h*f(x[i-5], y[i-5])\n",
    "        q_3 = h*f(x[i-4], y[i-4])\n",
    "        q_2 = h*f(x[i-3], y[i-3])\n",
    "        q_1 = h*f(x[i-2], y[i-2])\n",
    "        q_0 = h*f(x[i-1], y[i-1])\n",
    "        y[i] = y[i-1] + (1/720)*(1901*q_0 - 2774*q_1 + 2616*q_2 - 1274*q_3 + 251*q_4)\n",
    "    return y\n",
    "\n",
    "xx = [round(x, 2) for x in np.arange(4*h_2, 0.5+h_2, h_2)]\n",
    "y_Ad_ex = [0]*len(xx)\n",
    "for i in range(5):\n",
    "    y_Ad_ex[i] = Y_RK_2[i+4]\n",
    "y_Ad_ex = Adams_ex(y_Ad_ex, xx, h_2)"
   ]
  },
  {
   "cell_type": "markdown",
   "metadata": {},
   "source": [
    "7) Вычислить решение интерполяционным методом Адамса 4-го порядка"
   ]
  },
  {
   "cell_type": "code",
   "execution_count": 7,
   "metadata": {},
   "outputs": [],
   "source": [
    "def Adams_in(y_ex, y, x, h):\n",
    "    for i in range(4, len(y)):\n",
    "        q_3 = h * f(x[i - 4], y[i - 4])\n",
    "        q_2 = h * f(x[i - 3], y[i - 3])\n",
    "        q_1 = h * f(x[i - 2], y[i - 2])\n",
    "        q_0 = h * f(x[i - 1], y[i - 1])\n",
    "\n",
    "        y_0 = y_ex[i]\n",
    "        q_4 = h*f(x[i], y_0)\n",
    "        y_1 = y[i-1] + (1/720)*(251*q_4 + 646*q_0 - 264*q_1 + 106*q_2 - 19*q_3)\n",
    "        k=0\n",
    "        while np.abs(y_1 - y_0) >= 0.0001 and k!=10:\n",
    "            y_0 = y_1\n",
    "            q_4 = h * f(x[i], y_0)\n",
    "            y_1 = y[i - 1] + (1 / 720) * (251 * q_4 + 646 * q_0 - 264 * q_1 + 106 * q_2 - 19 * q_3)\n",
    "            k+=1\n",
    "        y[i] = y_1\n",
    "\n",
    "    return y\n",
    "xx = [round(x, 2) for x in np.arange(4*h_2, 0.5+h_2, h_2)]\n",
    "y_Ad_in = [0]*len(xx)\n",
    "for i in range(4):\n",
    "    y_Ad_in[i] = Y_RK_2[i+4]\n",
    "y_Ad_in = Adams_in(y_Ad_ex, y_Ad_in, xx, h_2)"
   ]
  },
  {
   "cell_type": "markdown",
   "metadata": {},
   "source": [
    "8) Напечатать таблицу значений решений $y_{math}$  и погрешностей $y_{math}-y_{RK}, y_{math}-y_{Ad_{ex}},y_{math}-y_{Ad_{in}}$"
   ]
  },
  {
   "cell_type": "code",
   "execution_count": 8,
   "metadata": {},
   "outputs": [
    {
     "data": {
      "text/html": [
       "<div>\n",
       "<style scoped>\n",
       "    .dataframe tbody tr th:only-of-type {\n",
       "        vertical-align: middle;\n",
       "    }\n",
       "\n",
       "    .dataframe tbody tr th {\n",
       "        vertical-align: top;\n",
       "    }\n",
       "\n",
       "    .dataframe thead th {\n",
       "        text-align: right;\n",
       "    }\n",
       "</style>\n",
       "<table border=\"1\" class=\"dataframe\">\n",
       "  <thead>\n",
       "    <tr style=\"text-align: right;\">\n",
       "      <th>$x$</th>\n",
       "      <th>y_AD_ex</th>\n",
       "      <th>y_math - y_AD_ex</th>\n",
       "      <th>y_AD_in</th>\n",
       "      <th>y_math - y_AD_in</th>\n",
       "    </tr>\n",
       "  </thead>\n",
       "  <tbody>\n",
       "    <tr>\n",
       "      <th>0.20</th>\n",
       "      <td>0.157677</td>\n",
       "      <td>0.009418</td>\n",
       "      <td>0.157677</td>\n",
       "      <td>0.009418</td>\n",
       "    </tr>\n",
       "    <tr>\n",
       "      <th>0.25</th>\n",
       "      <td>0.185409</td>\n",
       "      <td>0.011051</td>\n",
       "      <td>0.185409</td>\n",
       "      <td>0.011051</td>\n",
       "    </tr>\n",
       "    <tr>\n",
       "      <th>0.30</th>\n",
       "      <td>0.209217</td>\n",
       "      <td>0.012443</td>\n",
       "      <td>0.209217</td>\n",
       "      <td>0.012443</td>\n",
       "    </tr>\n",
       "    <tr>\n",
       "      <th>0.35</th>\n",
       "      <td>0.229463</td>\n",
       "      <td>0.013621</td>\n",
       "      <td>0.229463</td>\n",
       "      <td>0.013621</td>\n",
       "    </tr>\n",
       "    <tr>\n",
       "      <th>0.40</th>\n",
       "      <td>0.246493</td>\n",
       "      <td>0.014612</td>\n",
       "      <td>0.246493</td>\n",
       "      <td>0.014612</td>\n",
       "    </tr>\n",
       "    <tr>\n",
       "      <th>0.45</th>\n",
       "      <td>0.260635</td>\n",
       "      <td>0.015440</td>\n",
       "      <td>0.260636</td>\n",
       "      <td>0.015439</td>\n",
       "    </tr>\n",
       "    <tr>\n",
       "      <th>0.50</th>\n",
       "      <td>0.272201</td>\n",
       "      <td>0.016126</td>\n",
       "      <td>0.272202</td>\n",
       "      <td>0.016125</td>\n",
       "    </tr>\n",
       "  </tbody>\n",
       "</table>\n",
       "</div>"
      ],
      "text/plain": [
       "$x$    y_AD_ex  y_math - y_AD_ex   y_AD_in  y_math - y_AD_in\n",
       "0.20  0.157677          0.009418  0.157677          0.009418\n",
       "0.25  0.185409          0.011051  0.185409          0.011051\n",
       "0.30  0.209217          0.012443  0.209217          0.012443\n",
       "0.35  0.229463          0.013621  0.229463          0.013621\n",
       "0.40  0.246493          0.014612  0.246493          0.014612\n",
       "0.45  0.260635          0.015440  0.260636          0.015439\n",
       "0.50  0.272201          0.016126  0.272202          0.016125"
      ]
     },
     "metadata": {},
     "output_type": "display_data"
    }
   ],
   "source": [
    "y_math_2 = [0.167095, 0.19646, 0.22166, 0.243084, 0.261105, 0.276075, 0.288327]\n",
    "\n",
    "errs1 = [0]*len(xx)\n",
    "errs2 = [0]*len(xx)\n",
    "\n",
    "for i in range(len(xx)):\n",
    "    errs1[i] = y_math_2[i] - y_Ad_ex[i]\n",
    "    errs2[i] = y_math_2[i] - y_Ad_in[i]\n",
    "\n",
    "data = [y_Ad_ex, errs1, y_Ad_in, errs2]\n",
    "indexes = [\n",
    "    \"y_AD_ex\",\n",
    "    \"y_math - y_AD_ex\",\n",
    "    \"y_AD_in\",\n",
    "    \"y_math - y_AD_in\"\n",
    "]\n",
    "table3 = pd.DataFrame(data, index= indexes, columns=xx).T\n",
    "table3.columns.name = \"$x$\"\n",
    "display(table3)"
   ]
  },
  {
   "cell_type": "code",
   "execution_count": null,
   "metadata": {},
   "outputs": [],
   "source": []
  }
 ],
 "metadata": {
  "kernelspec": {
   "display_name": "Python 3",
   "language": "python",
   "name": "python3"
  },
  "language_info": {
   "codemirror_mode": {
    "name": "ipython",
    "version": 3
   },
   "file_extension": ".py",
   "mimetype": "text/x-python",
   "name": "python",
   "nbconvert_exporter": "python",
   "pygments_lexer": "ipython3",
   "version": "3.8.5"
  }
 },
 "nbformat": 4,
 "nbformat_minor": 4
}
